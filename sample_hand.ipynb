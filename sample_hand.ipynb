{
 "cells": [
  {
   "cell_type": "code",
   "execution_count": 1,
   "metadata": {},
   "outputs": [],
   "source": [
    "KERNEL_LAUNCH_TIMEOUT = 100"
   ]
  },
  {
   "cell_type": "code",
   "execution_count": 2,
   "metadata": {},
   "outputs": [
    {
     "name": "stderr",
     "output_type": "stream",
     "text": [
      "/home/cameron/anaconda3/envs/selfie/lib/python3.9/site-packages/tqdm/auto.py:22: TqdmWarning: IProgress not found. Please update jupyter and ipywidgets. See https://ipywidgets.readthedocs.io/en/stable/user_install.html\n",
      "  from .autonotebook import tqdm as notebook_tqdm\n"
     ]
    }
   ],
   "source": [
    "import pandas as pd\n",
    "from PIL import Image\n",
    "import numpy as np\n",
    "import glob\n",
    "from sklearn.model_selection import train_test_split\n",
    "from functools import partial\n",
    "\n",
    "from torchvision.models import resnet18\n",
    "from torchvision import transforms\n",
    "from torch.utils.data import DataLoader, Dataset\n",
    "from torch.nn import Linear, Conv2d, Module, Flatten, Softmax, CrossEntropyLoss, MaxPool2d, AvgPool2d, Dropout, BatchNorm2d, ReLU\n",
    "from torch.optim import Adam, SGD\n",
    "from torch import tensor, from_numpy, argmax, BoolStorage, concat\n",
    "import torch\n",
    "import matplotlib.pyplot as plt\n",
    "from matplotlib.lines import Line2D\n",
    "\n",
    "from tqdm import tqdm\n",
    "\n",
    "EPOCHS = 50\n",
    "BATCH_SIZE = 20"
   ]
  },
  {
   "cell_type": "code",
   "execution_count": 3,
   "metadata": {},
   "outputs": [],
   "source": [
    "device = torch.device(\"cuda\" if torch.cuda.is_available() else \"cpu\")"
   ]
  },
  {
   "cell_type": "code",
   "execution_count": 4,
   "metadata": {},
   "outputs": [],
   "source": [
    "train_dataset = { \"images\": [], \"labels\": []}\n",
    "for i in glob.glob(\"./Dataset/train/*/*\"):\n",
    "    img = Image.open(i)\n",
    "    train_dataset[\"images\"].append(img)\n",
    "    if \"2\" in i:\n",
    "        train_dataset[\"labels\"].append(tensor([1]))\n",
    "    else:\n",
    "        train_dataset[\"labels\"].append(tensor([0]))\n",
    "data = pd.DataFrame(data = train_dataset)\n",
    "train_data, val_data = train_test_split(data, test_size = 0.2, train_size=0.8, random_state=225, shuffle=True, stratify=data[\"labels\"])\n",
    "train_data.reset_index(drop=True, inplace=True)\n",
    "val_data.reset_index(drop=True, inplace=True)"
   ]
  },
  {
   "cell_type": "code",
   "execution_count": 5,
   "metadata": {},
   "outputs": [],
   "source": [
    "class ImageDataset(Dataset):\n",
    "    def __init__(self, df):\n",
    "        self.df = df\n",
    "\n",
    "    def __len__(self):\n",
    "        return len(self.df)\n",
    "\n",
    "    def __getitem__(self, index):\n",
    "        return self.df.iloc[index]\n",
    "train_dataset = ImageDataset(train_data)\n",
    "val_dataset = ImageDataset(val_data)"
   ]
  },
  {
   "cell_type": "code",
   "execution_count": 6,
   "metadata": {},
   "outputs": [],
   "source": [
    "def collate(preprocess, batch):\n",
    "    images = None\n",
    "    labels = None\n",
    "    for data in batch:\n",
    "        if images == None:\n",
    "            images = tensor(preprocess(data[\"images\"]).resize(1,1,224,224).cuda())\n",
    "            labels = tensor(data[\"labels\"].cuda())\n",
    "        else:\n",
    "            images = torch.cat((images, preprocess(data[\"images\"]).resize(1,1,224,224).cuda()), 0)\n",
    "            labels = torch.cat((labels, data[\"labels\"].cuda()), 0)\n",
    "    return images, labels"
   ]
  },
  {
   "cell_type": "code",
   "execution_count": 7,
   "metadata": {},
   "outputs": [],
   "source": [
    "preprocess = transforms.Compose([\n",
    "            transforms.Resize(256),\n",
    "            transforms.CenterCrop(224),\n",
    "            transforms.ToTensor(),\n",
    "            transforms.Normalize((0.5), (0.5)),\n",
    "            # transforms.Grayscale()\n",
    "        ])\n",
    "train_loader = DataLoader(train_dataset, batch_size=BATCH_SIZE, collate_fn=partial(collate, preprocess), shuffle=True, drop_last=True)\n",
    "val_loader = DataLoader(val_dataset, batch_size=BATCH_SIZE, collate_fn=partial(collate, preprocess), shuffle=True, drop_last=True)"
   ]
  },
  {
   "cell_type": "code",
   "execution_count": 8,
   "metadata": {},
   "outputs": [],
   "source": [
    "class ResNetBlock(Module):\n",
    "    def __init__(self, in_channel_size, hidden_channel_size):\n",
    "        super(ResNetBlock, self).__init__()\n",
    "        self.conv1 = Conv2d(in_channel_size, hidden_channel_size, 1, stride=1)\n",
    "        self.conv2 = Conv2d(hidden_channel_size, hidden_channel_size, 1, stride=2)\n",
    "        self.batchnorm = BatchNorm2d(hidden_channel_size)\n",
    "        self.batchnorm2 = BatchNorm2d(hidden_channel_size)\n",
    "        self.downsample = Conv2d(in_channel_size, hidden_channel_size, 1, stride=2)\n",
    "        self.relu = ReLU(inplace=True)\n",
    "\n",
    "    def forward(self, input):\n",
    "        x1 = self.relu(self.batchnorm(self.conv1(input)))\n",
    "        x2 = self.batchnorm2(self.conv2(x1))\n",
    "        x = x2 + self.downsample(input)\n",
    "        return self.relu(x)"
   ]
  },
  {
   "cell_type": "code",
   "execution_count": 9,
   "metadata": {},
   "outputs": [],
   "source": [
    "class GestureNN(Module):\n",
    "    def __init__(self):\n",
    "        super(GestureNN, self).__init__()\n",
    "        self.batch_norm = BatchNorm2d(64)\n",
    "        self.batch_norm2 = BatchNorm2d(8)\n",
    "        self.batch_norm3 = BatchNorm2d(10)\n",
    "        self.dropout = Dropout(0.4)\n",
    "        self.dropout2 = Dropout(0.4)\n",
    "        self.res_block = ResNetBlock(64, 64)\n",
    "        self.res_block2 = ResNetBlock(64, 128)\n",
    "        self.res_block3 = ResNetBlock(128, 256)\n",
    "        self.res_block4 = ResNetBlock(256, 512)\n",
    "        self.relu = ReLU(inplace=True)\n",
    "        self.avg_pool = MaxPool2d(8,8)\n",
    "        self.pool = MaxPool2d(kernel_size=3, stride=2, padding=1)\n",
    "        self.pool2 = MaxPool2d(2,2)\n",
    "        self.pool3 = MaxPool2d(2,2)\n",
    "        self.conv = Conv2d(1, 64, 2)\n",
    "        self.conv2 = Conv2d(6, 8, 4)\n",
    "        self.conv3 = Conv2d(8, 10, 4)\n",
    "        self.conv4 = Conv2d(10, 20, 2)\n",
    "        self.conv_pad1 = Conv2d(10, 10, 2, padding=5)\n",
    "        self.flatten = Flatten()\n",
    "        self.linear3 = Linear(256, 2)\n",
    "\n",
    "    def forward(self, input):\n",
    "        x = self.conv(input)\n",
    "        x = self.relu(self.batch_norm(x))\n",
    "        x = self.pool(x)\n",
    "        x = self.res_block(x)\n",
    "        x = self.res_block2(x)\n",
    "        x = self.res_block3(x)\n",
    "        #x = self.res_block4(x)\n",
    "        x = self.avg_pool(x)\n",
    "        x = self.flatten(x)\n",
    "        x = self.linear3(x)\n",
    "        return x\n",
    "\n",
    "# model = resnet18()\n",
    "# model.conv1 = Conv2d(1, 64, 7, 2)\n",
    "# num_in_features = model.fc.in_features\n",
    "# model.fc = Linear(num_in_features, 2)\n",
    "model = GestureNN()\n",
    "criterion = CrossEntropyLoss()\n",
    "if torch.cuda.is_available():\n",
    "    model = model.cuda()\n",
    "    criterion = criterion.cuda()\n",
    "optimizer = Adam(params=model.parameters(), lr=0.07)\n",
    "#optimizer = SGD(params=model.parameters(), lr=0.07, momentum=0.9)"
   ]
  },
  {
   "cell_type": "code",
   "execution_count": 10,
   "metadata": {},
   "outputs": [],
   "source": [
    "def test(model, glob_acc):\n",
    "    val_loss = []\n",
    "    acc = 0\n",
    "    for images, labels in val_loader:\n",
    "        images.cuda()\n",
    "        labels.cuda()\n",
    "        output = model(images)\n",
    "        loss = criterion(output, labels)\n",
    "        acc += sum((argmax(output, 1) == labels).int())\n",
    "        val_loss.append(loss.item())\n",
    "    print(f\"Val loss: {sum(val_loss)/len(val_loader.dataset)}\")\n",
    "    print(f\"Val accuracy: {acc/len(val_loader.dataset)}\")\n",
    "    glob_acc.append(acc.cpu()/len(val_loader.dataset))\n",
    "        "
   ]
  },
  {
   "cell_type": "code",
   "execution_count": 11,
   "metadata": {},
   "outputs": [
    {
     "name": "stdout",
     "output_type": "stream",
     "text": [
      "Epoch: 0\n"
     ]
    },
    {
     "ename": "TypeError",
     "evalue": "Input image tensor permitted channel values are [3], but found 1",
     "output_type": "error",
     "traceback": [
      "\u001b[0;31m---------------------------------------------------------------------------\u001b[0m",
      "\u001b[0;31mTypeError\u001b[0m                                 Traceback (most recent call last)",
      "\u001b[1;32m/home/cameron/Desktop/SELFIE/sample_hand.ipynb Cell 11'\u001b[0m in \u001b[0;36m<cell line: 3>\u001b[0;34m()\u001b[0m\n\u001b[1;32m      <a href='vscode-notebook-cell:/home/cameron/Desktop/SELFIE/sample_hand.ipynb#ch0000010?line=3'>4</a>\u001b[0m \u001b[39mprint\u001b[39m(\u001b[39mf\u001b[39m\u001b[39m\"\u001b[39m\u001b[39mEpoch: \u001b[39m\u001b[39m{\u001b[39;00mi\u001b[39m}\u001b[39;00m\u001b[39m\"\u001b[39m)\n\u001b[1;32m      <a href='vscode-notebook-cell:/home/cameron/Desktop/SELFIE/sample_hand.ipynb#ch0000010?line=4'>5</a>\u001b[0m train_loss \u001b[39m=\u001b[39m \u001b[39m0\u001b[39m\n\u001b[0;32m----> <a href='vscode-notebook-cell:/home/cameron/Desktop/SELFIE/sample_hand.ipynb#ch0000010?line=5'>6</a>\u001b[0m \u001b[39mfor\u001b[39;00m images, labels \u001b[39min\u001b[39;00m train_loader:\n\u001b[1;32m      <a href='vscode-notebook-cell:/home/cameron/Desktop/SELFIE/sample_hand.ipynb#ch0000010?line=6'>7</a>\u001b[0m     acc \u001b[39m=\u001b[39m \u001b[39m0\u001b[39m\n\u001b[1;32m      <a href='vscode-notebook-cell:/home/cameron/Desktop/SELFIE/sample_hand.ipynb#ch0000010?line=7'>8</a>\u001b[0m     optimizer\u001b[39m.\u001b[39mzero_grad(set_to_none\u001b[39m=\u001b[39m\u001b[39mFalse\u001b[39;00m)\n",
      "File \u001b[0;32m~/anaconda3/envs/selfie/lib/python3.9/site-packages/torch/utils/data/dataloader.py:530\u001b[0m, in \u001b[0;36m_BaseDataLoaderIter.__next__\u001b[0;34m(self)\u001b[0m\n\u001b[1;32m    <a href='file:///home/cameron/anaconda3/envs/selfie/lib/python3.9/site-packages/torch/utils/data/dataloader.py?line=527'>528</a>\u001b[0m \u001b[39mif\u001b[39;00m \u001b[39mself\u001b[39m\u001b[39m.\u001b[39m_sampler_iter \u001b[39mis\u001b[39;00m \u001b[39mNone\u001b[39;00m:\n\u001b[1;32m    <a href='file:///home/cameron/anaconda3/envs/selfie/lib/python3.9/site-packages/torch/utils/data/dataloader.py?line=528'>529</a>\u001b[0m     \u001b[39mself\u001b[39m\u001b[39m.\u001b[39m_reset()\n\u001b[0;32m--> <a href='file:///home/cameron/anaconda3/envs/selfie/lib/python3.9/site-packages/torch/utils/data/dataloader.py?line=529'>530</a>\u001b[0m data \u001b[39m=\u001b[39m \u001b[39mself\u001b[39;49m\u001b[39m.\u001b[39;49m_next_data()\n\u001b[1;32m    <a href='file:///home/cameron/anaconda3/envs/selfie/lib/python3.9/site-packages/torch/utils/data/dataloader.py?line=530'>531</a>\u001b[0m \u001b[39mself\u001b[39m\u001b[39m.\u001b[39m_num_yielded \u001b[39m+\u001b[39m\u001b[39m=\u001b[39m \u001b[39m1\u001b[39m\n\u001b[1;32m    <a href='file:///home/cameron/anaconda3/envs/selfie/lib/python3.9/site-packages/torch/utils/data/dataloader.py?line=531'>532</a>\u001b[0m \u001b[39mif\u001b[39;00m \u001b[39mself\u001b[39m\u001b[39m.\u001b[39m_dataset_kind \u001b[39m==\u001b[39m _DatasetKind\u001b[39m.\u001b[39mIterable \u001b[39mand\u001b[39;00m \\\n\u001b[1;32m    <a href='file:///home/cameron/anaconda3/envs/selfie/lib/python3.9/site-packages/torch/utils/data/dataloader.py?line=532'>533</a>\u001b[0m         \u001b[39mself\u001b[39m\u001b[39m.\u001b[39m_IterableDataset_len_called \u001b[39mis\u001b[39;00m \u001b[39mnot\u001b[39;00m \u001b[39mNone\u001b[39;00m \u001b[39mand\u001b[39;00m \\\n\u001b[1;32m    <a href='file:///home/cameron/anaconda3/envs/selfie/lib/python3.9/site-packages/torch/utils/data/dataloader.py?line=533'>534</a>\u001b[0m         \u001b[39mself\u001b[39m\u001b[39m.\u001b[39m_num_yielded \u001b[39m>\u001b[39m \u001b[39mself\u001b[39m\u001b[39m.\u001b[39m_IterableDataset_len_called:\n",
      "File \u001b[0;32m~/anaconda3/envs/selfie/lib/python3.9/site-packages/torch/utils/data/dataloader.py:570\u001b[0m, in \u001b[0;36m_SingleProcessDataLoaderIter._next_data\u001b[0;34m(self)\u001b[0m\n\u001b[1;32m    <a href='file:///home/cameron/anaconda3/envs/selfie/lib/python3.9/site-packages/torch/utils/data/dataloader.py?line=567'>568</a>\u001b[0m \u001b[39mdef\u001b[39;00m \u001b[39m_next_data\u001b[39m(\u001b[39mself\u001b[39m):\n\u001b[1;32m    <a href='file:///home/cameron/anaconda3/envs/selfie/lib/python3.9/site-packages/torch/utils/data/dataloader.py?line=568'>569</a>\u001b[0m     index \u001b[39m=\u001b[39m \u001b[39mself\u001b[39m\u001b[39m.\u001b[39m_next_index()  \u001b[39m# may raise StopIteration\u001b[39;00m\n\u001b[0;32m--> <a href='file:///home/cameron/anaconda3/envs/selfie/lib/python3.9/site-packages/torch/utils/data/dataloader.py?line=569'>570</a>\u001b[0m     data \u001b[39m=\u001b[39m \u001b[39mself\u001b[39;49m\u001b[39m.\u001b[39;49m_dataset_fetcher\u001b[39m.\u001b[39;49mfetch(index)  \u001b[39m# may raise StopIteration\u001b[39;00m\n\u001b[1;32m    <a href='file:///home/cameron/anaconda3/envs/selfie/lib/python3.9/site-packages/torch/utils/data/dataloader.py?line=570'>571</a>\u001b[0m     \u001b[39mif\u001b[39;00m \u001b[39mself\u001b[39m\u001b[39m.\u001b[39m_pin_memory:\n\u001b[1;32m    <a href='file:///home/cameron/anaconda3/envs/selfie/lib/python3.9/site-packages/torch/utils/data/dataloader.py?line=571'>572</a>\u001b[0m         data \u001b[39m=\u001b[39m _utils\u001b[39m.\u001b[39mpin_memory\u001b[39m.\u001b[39mpin_memory(data)\n",
      "File \u001b[0;32m~/anaconda3/envs/selfie/lib/python3.9/site-packages/torch/utils/data/_utils/fetch.py:52\u001b[0m, in \u001b[0;36m_MapDatasetFetcher.fetch\u001b[0;34m(self, possibly_batched_index)\u001b[0m\n\u001b[1;32m     <a href='file:///home/cameron/anaconda3/envs/selfie/lib/python3.9/site-packages/torch/utils/data/_utils/fetch.py?line=49'>50</a>\u001b[0m \u001b[39melse\u001b[39;00m:\n\u001b[1;32m     <a href='file:///home/cameron/anaconda3/envs/selfie/lib/python3.9/site-packages/torch/utils/data/_utils/fetch.py?line=50'>51</a>\u001b[0m     data \u001b[39m=\u001b[39m \u001b[39mself\u001b[39m\u001b[39m.\u001b[39mdataset[possibly_batched_index]\n\u001b[0;32m---> <a href='file:///home/cameron/anaconda3/envs/selfie/lib/python3.9/site-packages/torch/utils/data/_utils/fetch.py?line=51'>52</a>\u001b[0m \u001b[39mreturn\u001b[39;00m \u001b[39mself\u001b[39;49m\u001b[39m.\u001b[39;49mcollate_fn(data)\n",
      "\u001b[1;32m/home/cameron/Desktop/SELFIE/sample_hand.ipynb Cell 6'\u001b[0m in \u001b[0;36mcollate\u001b[0;34m(preprocess, batch)\u001b[0m\n\u001b[1;32m      <a href='vscode-notebook-cell:/home/cameron/Desktop/SELFIE/sample_hand.ipynb#ch0000005?line=3'>4</a>\u001b[0m \u001b[39mfor\u001b[39;00m data \u001b[39min\u001b[39;00m batch:\n\u001b[1;32m      <a href='vscode-notebook-cell:/home/cameron/Desktop/SELFIE/sample_hand.ipynb#ch0000005?line=4'>5</a>\u001b[0m     \u001b[39mif\u001b[39;00m images \u001b[39m==\u001b[39m \u001b[39mNone\u001b[39;00m:\n\u001b[0;32m----> <a href='vscode-notebook-cell:/home/cameron/Desktop/SELFIE/sample_hand.ipynb#ch0000005?line=5'>6</a>\u001b[0m         images \u001b[39m=\u001b[39m tensor(preprocess(data[\u001b[39m\"\u001b[39;49m\u001b[39mimages\u001b[39;49m\u001b[39m\"\u001b[39;49m])\u001b[39m.\u001b[39mresize(\u001b[39m1\u001b[39m,\u001b[39m1\u001b[39m,\u001b[39m224\u001b[39m,\u001b[39m224\u001b[39m)\u001b[39m.\u001b[39mcuda())\n\u001b[1;32m      <a href='vscode-notebook-cell:/home/cameron/Desktop/SELFIE/sample_hand.ipynb#ch0000005?line=6'>7</a>\u001b[0m         labels \u001b[39m=\u001b[39m tensor(data[\u001b[39m\"\u001b[39m\u001b[39mlabels\u001b[39m\u001b[39m\"\u001b[39m]\u001b[39m.\u001b[39mcuda())\n\u001b[1;32m      <a href='vscode-notebook-cell:/home/cameron/Desktop/SELFIE/sample_hand.ipynb#ch0000005?line=7'>8</a>\u001b[0m     \u001b[39melse\u001b[39;00m:\n",
      "File \u001b[0;32m~/anaconda3/envs/selfie/lib/python3.9/site-packages/torchvision/transforms/transforms.py:95\u001b[0m, in \u001b[0;36mCompose.__call__\u001b[0;34m(self, img)\u001b[0m\n\u001b[1;32m     <a href='file:///home/cameron/anaconda3/envs/selfie/lib/python3.9/site-packages/torchvision/transforms/transforms.py?line=92'>93</a>\u001b[0m \u001b[39mdef\u001b[39;00m \u001b[39m__call__\u001b[39m(\u001b[39mself\u001b[39m, img):\n\u001b[1;32m     <a href='file:///home/cameron/anaconda3/envs/selfie/lib/python3.9/site-packages/torchvision/transforms/transforms.py?line=93'>94</a>\u001b[0m     \u001b[39mfor\u001b[39;00m t \u001b[39min\u001b[39;00m \u001b[39mself\u001b[39m\u001b[39m.\u001b[39mtransforms:\n\u001b[0;32m---> <a href='file:///home/cameron/anaconda3/envs/selfie/lib/python3.9/site-packages/torchvision/transforms/transforms.py?line=94'>95</a>\u001b[0m         img \u001b[39m=\u001b[39m t(img)\n\u001b[1;32m     <a href='file:///home/cameron/anaconda3/envs/selfie/lib/python3.9/site-packages/torchvision/transforms/transforms.py?line=95'>96</a>\u001b[0m     \u001b[39mreturn\u001b[39;00m img\n",
      "File \u001b[0;32m~/anaconda3/envs/selfie/lib/python3.9/site-packages/torch/nn/modules/module.py:1110\u001b[0m, in \u001b[0;36mModule._call_impl\u001b[0;34m(self, *input, **kwargs)\u001b[0m\n\u001b[1;32m   <a href='file:///home/cameron/anaconda3/envs/selfie/lib/python3.9/site-packages/torch/nn/modules/module.py?line=1105'>1106</a>\u001b[0m \u001b[39m# If we don't have any hooks, we want to skip the rest of the logic in\u001b[39;00m\n\u001b[1;32m   <a href='file:///home/cameron/anaconda3/envs/selfie/lib/python3.9/site-packages/torch/nn/modules/module.py?line=1106'>1107</a>\u001b[0m \u001b[39m# this function, and just call forward.\u001b[39;00m\n\u001b[1;32m   <a href='file:///home/cameron/anaconda3/envs/selfie/lib/python3.9/site-packages/torch/nn/modules/module.py?line=1107'>1108</a>\u001b[0m \u001b[39mif\u001b[39;00m \u001b[39mnot\u001b[39;00m (\u001b[39mself\u001b[39m\u001b[39m.\u001b[39m_backward_hooks \u001b[39mor\u001b[39;00m \u001b[39mself\u001b[39m\u001b[39m.\u001b[39m_forward_hooks \u001b[39mor\u001b[39;00m \u001b[39mself\u001b[39m\u001b[39m.\u001b[39m_forward_pre_hooks \u001b[39mor\u001b[39;00m _global_backward_hooks\n\u001b[1;32m   <a href='file:///home/cameron/anaconda3/envs/selfie/lib/python3.9/site-packages/torch/nn/modules/module.py?line=1108'>1109</a>\u001b[0m         \u001b[39mor\u001b[39;00m _global_forward_hooks \u001b[39mor\u001b[39;00m _global_forward_pre_hooks):\n\u001b[0;32m-> <a href='file:///home/cameron/anaconda3/envs/selfie/lib/python3.9/site-packages/torch/nn/modules/module.py?line=1109'>1110</a>\u001b[0m     \u001b[39mreturn\u001b[39;00m forward_call(\u001b[39m*\u001b[39;49m\u001b[39minput\u001b[39;49m, \u001b[39m*\u001b[39;49m\u001b[39m*\u001b[39;49mkwargs)\n\u001b[1;32m   <a href='file:///home/cameron/anaconda3/envs/selfie/lib/python3.9/site-packages/torch/nn/modules/module.py?line=1110'>1111</a>\u001b[0m \u001b[39m# Do not call functions when jit is used\u001b[39;00m\n\u001b[1;32m   <a href='file:///home/cameron/anaconda3/envs/selfie/lib/python3.9/site-packages/torch/nn/modules/module.py?line=1111'>1112</a>\u001b[0m full_backward_hooks, non_full_backward_hooks \u001b[39m=\u001b[39m [], []\n",
      "File \u001b[0;32m~/anaconda3/envs/selfie/lib/python3.9/site-packages/torchvision/transforms/transforms.py:1576\u001b[0m, in \u001b[0;36mGrayscale.forward\u001b[0;34m(self, img)\u001b[0m\n\u001b[1;32m   <a href='file:///home/cameron/anaconda3/envs/selfie/lib/python3.9/site-packages/torchvision/transforms/transforms.py?line=1567'>1568</a>\u001b[0m \u001b[39mdef\u001b[39;00m \u001b[39mforward\u001b[39m(\u001b[39mself\u001b[39m, img):\n\u001b[1;32m   <a href='file:///home/cameron/anaconda3/envs/selfie/lib/python3.9/site-packages/torchvision/transforms/transforms.py?line=1568'>1569</a>\u001b[0m     \u001b[39m\"\"\"\u001b[39;00m\n\u001b[1;32m   <a href='file:///home/cameron/anaconda3/envs/selfie/lib/python3.9/site-packages/torchvision/transforms/transforms.py?line=1569'>1570</a>\u001b[0m \u001b[39m    Args:\u001b[39;00m\n\u001b[1;32m   <a href='file:///home/cameron/anaconda3/envs/selfie/lib/python3.9/site-packages/torchvision/transforms/transforms.py?line=1570'>1571</a>\u001b[0m \u001b[39m        img (PIL Image or Tensor): Image to be converted to grayscale.\u001b[39;00m\n\u001b[0;32m   (...)\u001b[0m\n\u001b[1;32m   <a href='file:///home/cameron/anaconda3/envs/selfie/lib/python3.9/site-packages/torchvision/transforms/transforms.py?line=1573'>1574</a>\u001b[0m \u001b[39m        PIL Image or Tensor: Grayscaled image.\u001b[39;00m\n\u001b[1;32m   <a href='file:///home/cameron/anaconda3/envs/selfie/lib/python3.9/site-packages/torchvision/transforms/transforms.py?line=1574'>1575</a>\u001b[0m \u001b[39m    \"\"\"\u001b[39;00m\n\u001b[0;32m-> <a href='file:///home/cameron/anaconda3/envs/selfie/lib/python3.9/site-packages/torchvision/transforms/transforms.py?line=1575'>1576</a>\u001b[0m     \u001b[39mreturn\u001b[39;00m F\u001b[39m.\u001b[39;49mrgb_to_grayscale(img, num_output_channels\u001b[39m=\u001b[39;49m\u001b[39mself\u001b[39;49m\u001b[39m.\u001b[39;49mnum_output_channels)\n",
      "File \u001b[0;32m~/anaconda3/envs/selfie/lib/python3.9/site-packages/torchvision/transforms/functional.py:1260\u001b[0m, in \u001b[0;36mrgb_to_grayscale\u001b[0;34m(img, num_output_channels)\u001b[0m\n\u001b[1;32m   <a href='file:///home/cameron/anaconda3/envs/selfie/lib/python3.9/site-packages/torchvision/transforms/functional.py?line=1256'>1257</a>\u001b[0m \u001b[39mif\u001b[39;00m \u001b[39mnot\u001b[39;00m \u001b[39misinstance\u001b[39m(img, torch\u001b[39m.\u001b[39mTensor):\n\u001b[1;32m   <a href='file:///home/cameron/anaconda3/envs/selfie/lib/python3.9/site-packages/torchvision/transforms/functional.py?line=1257'>1258</a>\u001b[0m     \u001b[39mreturn\u001b[39;00m F_pil\u001b[39m.\u001b[39mto_grayscale(img, num_output_channels)\n\u001b[0;32m-> <a href='file:///home/cameron/anaconda3/envs/selfie/lib/python3.9/site-packages/torchvision/transforms/functional.py?line=1259'>1260</a>\u001b[0m \u001b[39mreturn\u001b[39;00m F_t\u001b[39m.\u001b[39;49mrgb_to_grayscale(img, num_output_channels)\n",
      "File \u001b[0;32m~/anaconda3/envs/selfie/lib/python3.9/site-packages/torchvision/transforms/functional_tensor.py:143\u001b[0m, in \u001b[0;36mrgb_to_grayscale\u001b[0;34m(img, num_output_channels)\u001b[0m\n\u001b[1;32m    <a href='file:///home/cameron/anaconda3/envs/selfie/lib/python3.9/site-packages/torchvision/transforms/functional_tensor.py?line=140'>141</a>\u001b[0m \u001b[39mif\u001b[39;00m img\u001b[39m.\u001b[39mndim \u001b[39m<\u001b[39m \u001b[39m3\u001b[39m:\n\u001b[1;32m    <a href='file:///home/cameron/anaconda3/envs/selfie/lib/python3.9/site-packages/torchvision/transforms/functional_tensor.py?line=141'>142</a>\u001b[0m     \u001b[39mraise\u001b[39;00m \u001b[39mTypeError\u001b[39;00m(\u001b[39mf\u001b[39m\u001b[39m\"\u001b[39m\u001b[39mInput image tensor should have at least 3 dimensions, but found \u001b[39m\u001b[39m{\u001b[39;00mimg\u001b[39m.\u001b[39mndim\u001b[39m}\u001b[39;00m\u001b[39m\"\u001b[39m)\n\u001b[0;32m--> <a href='file:///home/cameron/anaconda3/envs/selfie/lib/python3.9/site-packages/torchvision/transforms/functional_tensor.py?line=142'>143</a>\u001b[0m _assert_channels(img, [\u001b[39m3\u001b[39;49m])\n\u001b[1;32m    <a href='file:///home/cameron/anaconda3/envs/selfie/lib/python3.9/site-packages/torchvision/transforms/functional_tensor.py?line=144'>145</a>\u001b[0m \u001b[39mif\u001b[39;00m num_output_channels \u001b[39mnot\u001b[39;00m \u001b[39min\u001b[39;00m (\u001b[39m1\u001b[39m, \u001b[39m3\u001b[39m):\n\u001b[1;32m    <a href='file:///home/cameron/anaconda3/envs/selfie/lib/python3.9/site-packages/torchvision/transforms/functional_tensor.py?line=145'>146</a>\u001b[0m     \u001b[39mraise\u001b[39;00m \u001b[39mValueError\u001b[39;00m(\u001b[39m\"\u001b[39m\u001b[39mnum_output_channels should be either 1 or 3\u001b[39m\u001b[39m\"\u001b[39m)\n",
      "File \u001b[0;32m~/anaconda3/envs/selfie/lib/python3.9/site-packages/torchvision/transforms/functional_tensor.py:60\u001b[0m, in \u001b[0;36m_assert_channels\u001b[0;34m(img, permitted)\u001b[0m\n\u001b[1;32m     <a href='file:///home/cameron/anaconda3/envs/selfie/lib/python3.9/site-packages/torchvision/transforms/functional_tensor.py?line=57'>58</a>\u001b[0m c \u001b[39m=\u001b[39m get_image_num_channels(img)\n\u001b[1;32m     <a href='file:///home/cameron/anaconda3/envs/selfie/lib/python3.9/site-packages/torchvision/transforms/functional_tensor.py?line=58'>59</a>\u001b[0m \u001b[39mif\u001b[39;00m c \u001b[39mnot\u001b[39;00m \u001b[39min\u001b[39;00m permitted:\n\u001b[0;32m---> <a href='file:///home/cameron/anaconda3/envs/selfie/lib/python3.9/site-packages/torchvision/transforms/functional_tensor.py?line=59'>60</a>\u001b[0m     \u001b[39mraise\u001b[39;00m \u001b[39mTypeError\u001b[39;00m(\u001b[39mf\u001b[39m\u001b[39m\"\u001b[39m\u001b[39mInput image tensor permitted channel values are \u001b[39m\u001b[39m{\u001b[39;00mpermitted\u001b[39m}\u001b[39;00m\u001b[39m, but found \u001b[39m\u001b[39m{\u001b[39;00mc\u001b[39m}\u001b[39;00m\u001b[39m\"\u001b[39m)\n",
      "\u001b[0;31mTypeError\u001b[0m: Input image tensor permitted channel values are [3], but found 1"
     ]
    }
   ],
   "source": [
    "\n",
    "total_acc = []\n",
    "test_acc = []\n",
    "for i in range(EPOCHS):\n",
    "    print(f\"Epoch: {i}\")\n",
    "    train_loss = 0\n",
    "    for images, labels in train_loader:\n",
    "        acc = 0\n",
    "        optimizer.zero_grad(set_to_none=False)\n",
    "        images.cuda()\n",
    "        labels.cuda()\n",
    "        output = model(images)\n",
    "        loss = criterion(output, labels)\n",
    "        loss.backward()\n",
    "        optimizer.step()\n",
    "        \n",
    "        acc += sum((argmax(output, 1) == labels).int())\n",
    "        train_loss += loss.item()\n",
    "\n",
    "        print(f\"Train loss: {train_loss/BATCH_SIZE}\")\n",
    "        print(f\"Train accuracy: {acc/BATCH_SIZE}\")\n",
    "    total_acc.append(acc.cpu()/BATCH_SIZE)\n",
    "    test(model, test_acc)"
   ]
  },
  {
   "cell_type": "code",
   "execution_count": null,
   "metadata": {},
   "outputs": [],
   "source": [
    "def plot_grad_flow(named_parameters):\n",
    "    '''Plots the gradients flowing through different layers in the net during training.\n",
    "    Can be used for checking for possible gradient vanishing / exploding problems.\n",
    "    \n",
    "    Usage: Plug this function in Trainer class after loss.backwards() as \n",
    "    \"plot_grad_flow(self.model.named_parameters())\" to visualize the gradient flow'''\n",
    "    ave_grads = []\n",
    "    max_grads= []\n",
    "    layers = []\n",
    "    for n, p in named_parameters:\n",
    "        if(p.requires_grad) and (\"bias\" not in n):\n",
    "            if p.grad == None:\n",
    "                layers.append(n)\n",
    "                ave_grads.append(0)\n",
    "                max_grads.append(0)\n",
    "            else:\n",
    "                layers.append(n)\n",
    "                ave_grads.append(p.grad.abs().mean())\n",
    "                max_grads.append(p.grad.abs().max())\n",
    "    plt.bar(np.arange(len(max_grads)), max_grads, alpha=0.1, lw=1, color=\"c\")\n",
    "    plt.bar(np.arange(len(max_grads)), ave_grads, alpha=0.1, lw=1, color=\"b\")\n",
    "    plt.hlines(0, 0, len(ave_grads)+1, lw=2, color=\"k\" )\n",
    "    plt.xticks(range(0,len(ave_grads), 1), layers, rotation=\"vertical\")\n",
    "    plt.xlim(left=0, right=len(ave_grads))\n",
    "    plt.ylim(bottom = -0.001, top=0.02) # zoom in on the lower gradient regions\n",
    "    plt.xlabel(\"Layers\")\n",
    "    plt.ylabel(\"average gradient\")\n",
    "    plt.title(\"Gradient flow\")\n",
    "    plt.grid(True)\n",
    "    plt.legend([Line2D([0], [0], color=\"c\", lw=4),\n",
    "                Line2D([0], [0], color=\"b\", lw=4),\n",
    "                Line2D([0], [0], color=\"k\", lw=4)], ['max-gradient', 'mean-gradient', 'zero-gradient'])"
   ]
  },
  {
   "cell_type": "code",
   "execution_count": null,
   "metadata": {},
   "outputs": [],
   "source": [
    "model = model.cpu()\n",
    "plot_grad_flow(model.named_parameters())"
   ]
  },
  {
   "cell_type": "code",
   "execution_count": null,
   "metadata": {},
   "outputs": [],
   "source": [
    "plt.figure(figsize=(10,5))\n",
    "plt.title(\"Training and Validation Loss\")\n",
    "plt.plot(total_acc,label=\"train\")\n",
    "plt.plot(test_acc,label=\"val\")\n",
    "plt.xlabel(\"iterations\")\n",
    "plt.ylabel(\"accuracy\")\n",
    "plt.legend()\n",
    "plt.show()"
   ]
  },
  {
   "cell_type": "code",
   "execution_count": null,
   "metadata": {},
   "outputs": [],
   "source": []
  }
 ],
 "metadata": {
  "interpreter": {
   "hash": "f43fafbf5b2b9c32e0bd5ad0eb080130611d680b9999bb3c9f1f48c05c9fcbb0"
  },
  "kernelspec": {
   "display_name": "Python 3.10.4 ('selfie')",
   "language": "python",
   "name": "python3"
  },
  "language_info": {
   "codemirror_mode": {
    "name": "ipython",
    "version": 3
   },
   "file_extension": ".py",
   "mimetype": "text/x-python",
   "name": "python",
   "nbconvert_exporter": "python",
   "pygments_lexer": "ipython3",
   "version": "3.9.12"
  },
  "orig_nbformat": 4
 },
 "nbformat": 4,
 "nbformat_minor": 2
}
